{
  "nbformat": 4,
  "nbformat_minor": 0,
  "metadata": {
    "colab": {
      "name": "DIGIT RECOGNIZER",
      "provenance": [],
      "collapsed_sections": [],
      "mount_file_id": "1UrAsyF1POE6dd8Vy-2bp0RsbHtZiGUEg",
      "authorship_tag": "ABX9TyO7rE7sXBdEvmB6CnkhkD/0",
      "include_colab_link": true
    },
    "kernelspec": {
      "name": "python3",
      "display_name": "Python 3"
    }
  },
  "cells": [
    {
      "cell_type": "markdown",
      "metadata": {
        "id": "view-in-github",
        "colab_type": "text"
      },
      "source": [
        "<a href=\"https://colab.research.google.com/github/simranoscar/Digit_Recognizer/blob/main/DIGIT_RECOGNIZER.ipynb\" target=\"_parent\"><img src=\"https://colab.research.google.com/assets/colab-badge.svg\" alt=\"Open In Colab\"/></a>"
      ]
    },
    {
      "cell_type": "code",
      "metadata": {
        "id": "DHED7fiPA5FD"
      },
      "source": [
        "#IMPORT LIBRARIES"
      ],
      "execution_count": null,
      "outputs": []
    },
    {
      "cell_type": "code",
      "metadata": {
        "id": "_L9RLwu8BBbz"
      },
      "source": [
        "import keras\n",
        "from keras.datasets import mnist\n",
        "from keras.models import Sequential\n",
        "from keras.layers import Dense, Dropout, Flatten\n",
        "from keras.layers import Conv2D, MaxPooling2D\n",
        "from keras import backend as K"
      ],
      "execution_count": null,
      "outputs": []
    },
    {
      "cell_type": "code",
      "metadata": {
        "id": "TS1xLe_cBFJn"
      },
      "source": [
        "#LOAD THE DATASET AND SPLIT BETWEEN TESTING AND TRAINING DATA"
      ],
      "execution_count": null,
      "outputs": []
    },
    {
      "cell_type": "code",
      "metadata": {
        "id": "L-hKmPy0BPHb",
        "outputId": "4a35ed4d-338b-4b88-c143-535150f02946",
        "colab": {
          "base_uri": "https://localhost:8080/",
          "height": 68
        }
      },
      "source": [
        "(x_train, y_train), (x_test, y_test) = mnist.load_data()\n",
        "print(x_train.shape, y_train.shape)"
      ],
      "execution_count": null,
      "outputs": [
        {
          "output_type": "stream",
          "text": [
            "Downloading data from https://storage.googleapis.com/tensorflow/tf-keras-datasets/mnist.npz\n",
            "11493376/11490434 [==============================] - 0s 0us/step\n",
            "(60000, 28, 28) (60000,)\n"
          ],
          "name": "stdout"
        }
      ]
    },
    {
      "cell_type": "code",
      "metadata": {
        "id": "aSFupL8_BSIP"
      },
      "source": [
        "#PREPROCESSING THE DATA"
      ],
      "execution_count": null,
      "outputs": []
    },
    {
      "cell_type": "code",
      "metadata": {
        "id": "vqs6W4TitVL6",
        "outputId": "f8cebe62-f78a-4be1-abfb-30fafa2b0a13",
        "colab": {
          "base_uri": "https://localhost:8080/",
          "height": 68
        }
      },
      "source": [
        "#TO RESHAPE THE DATA\n",
        "x_train = x_train.reshape(x_train.shape[0], 28, 28, 1)\n",
        "x_test = x_test.reshape(x_test.shape[0], 28, 28, 1)\n",
        "\n",
        "#TO INITIALIZE VARIABLES\n",
        "input_shape = (28, 28, 1)\n",
        "num_classes=10\n",
        "\n",
        "#CONVERT CLASS VECTORS TO BINARY CLASS MATRICES\n",
        "y_train = keras.utils.to_categorical(y_train, num_classes)\n",
        "y_test = keras.utils.to_categorical(y_test, num_classes)\n",
        "\n",
        "#PREPROCESS INPUT DATA\n",
        "x_train = x_train.astype('float32')\n",
        "x_test = x_test.astype('float32')\n",
        "\n",
        "#TO ENSURE INPUT FEATURES ARE BETWEEN 0.0 AND 1.0\n",
        "x_train /= 255\n",
        "x_test /= 255\n",
        "\n",
        "#TO PRINT VALUES\n",
        "print('x_train shape:', x_train.shape)\n",
        "print(x_train.shape[0], 'train samples')\n",
        "print(x_test.shape[0], 'test samples')"
      ],
      "execution_count": null,
      "outputs": [
        {
          "output_type": "stream",
          "text": [
            "x_train shape: (60000, 28, 28, 1)\n",
            "60000 train samples\n",
            "10000 test samples\n"
          ],
          "name": "stdout"
        }
      ]
    },
    {
      "cell_type": "code",
      "metadata": {
        "id": "bfRgIA09CKmA"
      },
      "source": [
        "#TO CREATE A CNN MODEL"
      ],
      "execution_count": null,
      "outputs": []
    },
    {
      "cell_type": "code",
      "metadata": {
        "id": "XFlWBxXUtZG0"
      },
      "source": [
        "#INITIALIZE VARIABLES\n",
        "batch_size = 128\n",
        "num_classes = 10\n",
        "epochs = 10\n",
        "\n",
        "#TO DEFINE MODEL\n",
        "model = Sequential()\n",
        "\n",
        "#TO ADD CONV2D LAYERS\n",
        "model.add(Conv2D(32, kernel_size=(3, 3),activation='relu',input_shape=input_shape))\n",
        "model.add(Conv2D(64, (3, 3), activation='relu'))\n",
        "\n",
        "#TO ADD MAXPOLLING2D LAYER\n",
        "model.add(MaxPooling2D(pool_size=(2, 2)))\n",
        "\n",
        "#TO PREVENT MODEL FROM OVERFITTING\n",
        "model.add(Dropout(0.25))\n",
        "\n",
        "#TO COnVERT POOLED FEATURES INTO SINGLE COLUMN\n",
        "model.add(Flatten())\n",
        "\n",
        "#TO ADD FULLY CONNECTED LAYER TO NEURAL NETWORK USING ACTIVATION FUNCTION\n",
        "model.add(Dense(256, activation='relu'))\n",
        "\n",
        "#TO PREVENT MODEL FROM OVERFITTING\n",
        "model.add(Dropout(0.5))\n",
        "\n",
        "#TO ADD FULLY CONNECTED LAYER TO NEURAL NETWORK USING ACTIVATION FUNCTION\n",
        "model.add(Dense(num_classes, activation='softmax'))\n",
        "\n",
        "#TO COMPILE USING ADADELTA OPTIMIZER \n",
        "model.compile(loss=keras.losses.categorical_crossentropy,optimizer=keras.optimizers.Adadelta(),metrics=['accuracy'])"
      ],
      "execution_count": null,
      "outputs": []
    },
    {
      "cell_type": "code",
      "metadata": {
        "id": "9y9QAtIZtdk0",
        "outputId": "d0d0131b-af3d-47c4-c03e-cd923c06c3bb",
        "colab": {
          "base_uri": "https://localhost:8080/",
          "height": 411
        }
      },
      "source": [
        " #TO TRAIN MODEL USING FIT FUNCTION\n",
        " hist = model.fit(x_train, \n",
        "y_train,batch_size=batch_size,epochs=epochs,verbose=1,validation_data=(x_test, y_test))\n",
        "print(\"The model has successfully trained\")\n",
        "\n",
        "#TO SAVE THE MODEL\n",
        "model.save('mnist.h5')\n",
        "print(\"Saving the model as mnist.h5\")"
      ],
      "execution_count": null,
      "outputs": [
        {
          "output_type": "stream",
          "text": [
            "Epoch 1/10\n",
            "469/469 [==============================] - 165s 352ms/step - loss: 2.2555 - accuracy: 0.1906 - val_loss: 2.1921 - val_accuracy: 0.4156\n",
            "Epoch 2/10\n",
            "469/469 [==============================] - 165s 351ms/step - loss: 2.1529 - accuracy: 0.3361 - val_loss: 2.0614 - val_accuracy: 0.6018\n",
            "Epoch 3/10\n",
            "469/469 [==============================] - 165s 352ms/step - loss: 2.0170 - accuracy: 0.4647 - val_loss: 1.8839 - val_accuracy: 0.7049\n",
            "Epoch 4/10\n",
            "469/469 [==============================] - 167s 355ms/step - loss: 1.8317 - accuracy: 0.5638 - val_loss: 1.6492 - val_accuracy: 0.7526\n",
            "Epoch 5/10\n",
            "469/469 [==============================] - 164s 350ms/step - loss: 1.6067 - accuracy: 0.6252 - val_loss: 1.3780 - val_accuracy: 0.7863\n",
            "Epoch 6/10\n",
            "469/469 [==============================] - 164s 351ms/step - loss: 1.3727 - accuracy: 0.6671 - val_loss: 1.1216 - val_accuracy: 0.8061\n",
            "Epoch 7/10\n",
            "469/469 [==============================] - 164s 349ms/step - loss: 1.1780 - accuracy: 0.6934 - val_loss: 0.9225 - val_accuracy: 0.8215\n",
            "Epoch 8/10\n",
            "469/469 [==============================] - 166s 355ms/step - loss: 1.0285 - accuracy: 0.7185 - val_loss: 0.7818 - val_accuracy: 0.8340\n",
            "Epoch 9/10\n",
            "469/469 [==============================] - 167s 357ms/step - loss: 0.9201 - accuracy: 0.7371 - val_loss: 0.6835 - val_accuracy: 0.8458\n",
            "Epoch 10/10\n",
            "469/469 [==============================] - 164s 349ms/step - loss: 0.8372 - accuracy: 0.7552 - val_loss: 0.6137 - val_accuracy: 0.8548\n",
            "The model has successfully trained\n",
            "Saving the model as mnist.h5\n"
          ],
          "name": "stdout"
        }
      ]
    },
    {
      "cell_type": "code",
      "metadata": {
        "id": "4mrgn_6-thoE",
        "outputId": "27105442-1718-4fd4-bc57-29e50455d5f8",
        "colab": {
          "base_uri": "https://localhost:8080/",
          "height": 51
        }
      },
      "source": [
        "#TO EVALUATE THE MODEL USING TESTING DATA\n",
        "score = model.evaluate(x_test, y_test, verbose=0)\n",
        "print('Test loss:', score[0])\n",
        "print('Test accuracy:', score[1])"
      ],
      "execution_count": null,
      "outputs": [
        {
          "output_type": "stream",
          "text": [
            "Test loss: 0.6137322783470154\n",
            "Test accuracy: 0.8547999858856201\n"
          ],
          "name": "stdout"
        }
      ]
    }
  ]
}